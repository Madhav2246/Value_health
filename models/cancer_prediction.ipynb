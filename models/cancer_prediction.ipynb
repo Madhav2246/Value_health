{
 "cells": [
  {
   "cell_type": "code",
   "execution_count": 72,
   "id": "fb606bab-4010-4655-88b5-a869ea8b4767",
   "metadata": {},
   "outputs": [],
   "source": [
    "# Importing necessary libraries\n",
    "import pandas as pd\n",
    "from sklearn.model_selection import train_test_split, cross_val_score\n",
    "from sklearn.linear_model import LogisticRegression\n",
    "from sklearn.metrics import accuracy_score\n"
   ]
  },
  {
   "cell_type": "code",
   "execution_count": 74,
   "id": "5d0b373d-beb7-42d3-8a51-b2fda3e4c295",
   "metadata": {},
   "outputs": [
    {
     "name": "stdout",
     "output_type": "stream",
     "text": [
      "First 5 rows of the dataset:\n",
      "   Patient Id  Age  Gender  AirPollution  Alcoholuse  DustAllergy  \\\n",
      "0         P1   33       1             2           4            5   \n",
      "1        P10   17       1             3           1            5   \n",
      "2       P100   35       1             4           5            6   \n",
      "3      P1000   37       1             7           7            7   \n",
      "4       P101   46       1             6           8            7   \n",
      "\n",
      "   OccuPationalHazards  GeneticRisk  chronicLungDisease  BalancedDiet  ...  \\\n",
      "0                    4            3                   2             2  ...   \n",
      "1                    3            4                   2             2  ...   \n",
      "2                    5            5                   4             6  ...   \n",
      "3                    7            6                   7             7  ...   \n",
      "4                    7            7                   6             7  ...   \n",
      "\n",
      "   Fatigue  WeightLoss  ShortnessofBreath  Wheezing  SwallowingDifficulty  \\\n",
      "0        3           4                  2         2                     3   \n",
      "1        1           3                  7         8                     6   \n",
      "2        8           7                  9         2                     1   \n",
      "3        4           2                  3         1                     4   \n",
      "4        3           2                  4         1                     4   \n",
      "\n",
      "   ClubbingofFingerNails  FrequentCold  DryCough  Snoring  Level  \n",
      "0                      1             2         3        4    Low  \n",
      "1                      2             1         7        2   High  \n",
      "2                      4             6         7        2   High  \n",
      "3                      5             6         7        5   High  \n",
      "4                      2             4         2        3   High  \n",
      "\n",
      "[5 rows x 25 columns]\n"
     ]
    }
   ],
   "source": [
    "# Step 1: Load the dataset\n",
    "url = \"https://raw.githubusercontent.com/ADITHYASNAIR2021/Dataset-cart/main/Lung%20Cancer.csv\"\n",
    "data = pd.read_csv(url)\n",
    "print(\"First 5 rows of the dataset:\\n\", data.head())\n"
   ]
  },
  {
   "cell_type": "code",
   "execution_count": 75,
   "id": "5c63357f-7b4a-4ddf-aee1-8f592c115041",
   "metadata": {},
   "outputs": [
    {
     "name": "stdout",
     "output_type": "stream",
     "text": [
      "\n",
      "Unique values in 'Level' before replacement:\n",
      " ['Low' 'High' 'Medium']\n",
      "\n",
      "Unique values in 'Level' after replacement:\n",
      " [0 1 'High']\n"
     ]
    }
   ],
   "source": [
    "# Check unique values in the 'Level' column\n",
    "print(\"\\nUnique values in 'Level' before replacement:\\n\", data['Level'].unique())\n",
    "\n",
    "# Replacing categorical levels with numeric values\n",
    "data['Level'] = data['Level'].replace({'Medium': 'High', 'High': 1, 'Low': 0})\n",
    "\n",
    "# Check again after replacement\n",
    "print(\"\\nUnique values in 'Level' after replacement:\\n\", data['Level'].unique())\n"
   ]
  },
  {
   "cell_type": "code",
   "execution_count": 78,
   "id": "cfc1df4b-f100-43a2-9039-935293904696",
   "metadata": {},
   "outputs": [
    {
     "name": "stdout",
     "output_type": "stream",
     "text": [
      "\n",
      "Data after processing:\n",
      "   Patient Id  Age  Gender  AirPollution  Alcoholuse  DustAllergy  \\\n",
      "0         P1   33       1             2           4            5   \n",
      "1        P10   17       1             3           1            5   \n",
      "2       P100   35       1             4           5            6   \n",
      "3      P1000   37       1             7           7            7   \n",
      "4       P101   46       1             6           8            7   \n",
      "\n",
      "   OccuPationalHazards  GeneticRisk  chronicLungDisease  BalancedDiet  ...  \\\n",
      "0                    4            3                   2             2  ...   \n",
      "1                    3            4                   2             2  ...   \n",
      "2                    5            5                   4             6  ...   \n",
      "3                    7            6                   7             7  ...   \n",
      "4                    7            7                   6             7  ...   \n",
      "\n",
      "   Fatigue  WeightLoss  ShortnessofBreath  Wheezing  SwallowingDifficulty  \\\n",
      "0        3           4                  2         2                     3   \n",
      "1        1           3                  7         8                     6   \n",
      "2        8           7                  9         2                     1   \n",
      "3        4           2                  3         1                     4   \n",
      "4        3           2                  4         1                     4   \n",
      "\n",
      "   ClubbingofFingerNails  FrequentCold  DryCough  Snoring  Level  \n",
      "0                      1             2         3        4    0.0  \n",
      "1                      2             1         7        2    1.0  \n",
      "2                      4             6         7        2    1.0  \n",
      "3                      5             6         7        5    1.0  \n",
      "4                      2             4         2        3    1.0  \n",
      "\n",
      "[5 rows x 25 columns]\n"
     ]
    }
   ],
   "source": [
    "# Ensuring all values in 'Level' are properly converted\n",
    "data['Level'] = pd.to_numeric(data['Level'], errors='coerce')\n",
    "\n",
    "# Dropping any rows with NaN values (if replacement was incomplete)\n",
    "data.dropna(subset=['Level'], inplace=True)\n",
    "\n",
    "print(\"\\nData after processing:\\n\", data.head())"
   ]
  },
  {
   "cell_type": "code",
   "execution_count": 80,
   "id": "15219b8a-250d-42f9-be31-76dce1b4536f",
   "metadata": {},
   "outputs": [],
   "source": [
    "X = data.drop('Level', axis=1)  \n",
    "y = data['Level'] \n"
   ]
  },
  {
   "cell_type": "code",
   "execution_count": 82,
   "id": "63d07cd4-b9bf-4945-bc3a-1a222bb3086a",
   "metadata": {},
   "outputs": [
    {
     "name": "stdout",
     "output_type": "stream",
     "text": [
      "\n",
      "Training data size: (501, 24)\n",
      "Testing data size: (168, 24)\n"
     ]
    }
   ],
   "source": [
    "# Step 5: Split the dataset into training and testing sets\n",
    "X_train, X_test, y_train, y_test = train_test_split(X, y, test_size=0.25, random_state=42)\n",
    "print(\"\\nTraining data size:\", X_train.shape)\n",
    "print(\"Testing data size:\", X_test.shape)\n"
   ]
  },
  {
   "cell_type": "code",
   "execution_count": 84,
   "id": "1b5fcf6b",
   "metadata": {},
   "outputs": [],
   "source": [
    "X_train = pd.get_dummies(X_train)"
   ]
  },
  {
   "cell_type": "code",
   "execution_count": 86,
   "id": "76d4f749-9bed-446c-8d41-aaa852536a82",
   "metadata": {},
   "outputs": [],
   "source": [
    "from sklearn.preprocessing import LabelEncoder\n",
    "label_encoder = LabelEncoder()\n",
    "y_train = label_encoder.fit_transform(y_train)"
   ]
  },
  {
   "cell_type": "code",
   "execution_count": 88,
   "id": "4d7bb2fb",
   "metadata": {},
   "outputs": [
    {
     "data": {
      "text/html": [
       "<style>#sk-container-id-2 {color: black;background-color: white;}#sk-container-id-2 pre{padding: 0;}#sk-container-id-2 div.sk-toggleable {background-color: white;}#sk-container-id-2 label.sk-toggleable__label {cursor: pointer;display: block;width: 100%;margin-bottom: 0;padding: 0.3em;box-sizing: border-box;text-align: center;}#sk-container-id-2 label.sk-toggleable__label-arrow:before {content: \"▸\";float: left;margin-right: 0.25em;color: #696969;}#sk-container-id-2 label.sk-toggleable__label-arrow:hover:before {color: black;}#sk-container-id-2 div.sk-estimator:hover label.sk-toggleable__label-arrow:before {color: black;}#sk-container-id-2 div.sk-toggleable__content {max-height: 0;max-width: 0;overflow: hidden;text-align: left;background-color: #f0f8ff;}#sk-container-id-2 div.sk-toggleable__content pre {margin: 0.2em;color: black;border-radius: 0.25em;background-color: #f0f8ff;}#sk-container-id-2 input.sk-toggleable__control:checked~div.sk-toggleable__content {max-height: 200px;max-width: 100%;overflow: auto;}#sk-container-id-2 input.sk-toggleable__control:checked~label.sk-toggleable__label-arrow:before {content: \"▾\";}#sk-container-id-2 div.sk-estimator input.sk-toggleable__control:checked~label.sk-toggleable__label {background-color: #d4ebff;}#sk-container-id-2 div.sk-label input.sk-toggleable__control:checked~label.sk-toggleable__label {background-color: #d4ebff;}#sk-container-id-2 input.sk-hidden--visually {border: 0;clip: rect(1px 1px 1px 1px);clip: rect(1px, 1px, 1px, 1px);height: 1px;margin: -1px;overflow: hidden;padding: 0;position: absolute;width: 1px;}#sk-container-id-2 div.sk-estimator {font-family: monospace;background-color: #f0f8ff;border: 1px dotted black;border-radius: 0.25em;box-sizing: border-box;margin-bottom: 0.5em;}#sk-container-id-2 div.sk-estimator:hover {background-color: #d4ebff;}#sk-container-id-2 div.sk-parallel-item::after {content: \"\";width: 100%;border-bottom: 1px solid gray;flex-grow: 1;}#sk-container-id-2 div.sk-label:hover label.sk-toggleable__label {background-color: #d4ebff;}#sk-container-id-2 div.sk-serial::before {content: \"\";position: absolute;border-left: 1px solid gray;box-sizing: border-box;top: 0;bottom: 0;left: 50%;z-index: 0;}#sk-container-id-2 div.sk-serial {display: flex;flex-direction: column;align-items: center;background-color: white;padding-right: 0.2em;padding-left: 0.2em;position: relative;}#sk-container-id-2 div.sk-item {position: relative;z-index: 1;}#sk-container-id-2 div.sk-parallel {display: flex;align-items: stretch;justify-content: center;background-color: white;position: relative;}#sk-container-id-2 div.sk-item::before, #sk-container-id-2 div.sk-parallel-item::before {content: \"\";position: absolute;border-left: 1px solid gray;box-sizing: border-box;top: 0;bottom: 0;left: 50%;z-index: -1;}#sk-container-id-2 div.sk-parallel-item {display: flex;flex-direction: column;z-index: 1;position: relative;background-color: white;}#sk-container-id-2 div.sk-parallel-item:first-child::after {align-self: flex-end;width: 50%;}#sk-container-id-2 div.sk-parallel-item:last-child::after {align-self: flex-start;width: 50%;}#sk-container-id-2 div.sk-parallel-item:only-child::after {width: 0;}#sk-container-id-2 div.sk-dashed-wrapped {border: 1px dashed gray;margin: 0 0.4em 0.5em 0.4em;box-sizing: border-box;padding-bottom: 0.4em;background-color: white;}#sk-container-id-2 div.sk-label label {font-family: monospace;font-weight: bold;display: inline-block;line-height: 1.2em;}#sk-container-id-2 div.sk-label-container {text-align: center;}#sk-container-id-2 div.sk-container {/* jupyter's `normalize.less` sets `[hidden] { display: none; }` but bootstrap.min.css set `[hidden] { display: none !important; }` so we also need the `!important` here to be able to override the default hidden behavior on the sphinx rendered scikit-learn.org. See: https://github.com/scikit-learn/scikit-learn/issues/21755 */display: inline-block !important;position: relative;}#sk-container-id-2 div.sk-text-repr-fallback {display: none;}</style><div id=\"sk-container-id-2\" class=\"sk-top-container\"><div class=\"sk-text-repr-fallback\"><pre>LogisticRegression(C=1000000000000000.0, max_iter=300, multi_class=&#x27;ovr&#x27;,\n",
       "                   solver=&#x27;newton-cg&#x27;)</pre><b>In a Jupyter environment, please rerun this cell to show the HTML representation or trust the notebook. <br />On GitHub, the HTML representation is unable to render, please try loading this page with nbviewer.org.</b></div><div class=\"sk-container\" hidden><div class=\"sk-item\"><div class=\"sk-estimator sk-toggleable\"><input class=\"sk-toggleable__control sk-hidden--visually\" id=\"sk-estimator-id-2\" type=\"checkbox\" checked><label for=\"sk-estimator-id-2\" class=\"sk-toggleable__label sk-toggleable__label-arrow\">LogisticRegression</label><div class=\"sk-toggleable__content\"><pre>LogisticRegression(C=1000000000000000.0, max_iter=300, multi_class=&#x27;ovr&#x27;,\n",
       "                   solver=&#x27;newton-cg&#x27;)</pre></div></div></div></div></div>"
      ],
      "text/plain": [
       "LogisticRegression(C=1000000000000000.0, max_iter=300, multi_class='ovr',\n",
       "                   solver='newton-cg')"
      ]
     },
     "execution_count": 88,
     "metadata": {},
     "output_type": "execute_result"
    }
   ],
   "source": [
    "# Step 6: Initialize and train the Logistic Regression model\n",
    "Log_reg = LogisticRegression(fit_intercept=True, C=1e15, solver='newton-cg', max_iter=300, penalty='l2', multi_class='ovr')\n",
    "Log_reg.fit(X_train, y_train)"
   ]
  },
  {
   "cell_type": "code",
   "execution_count": 90,
   "id": "c9947b34-05bb-42e1-b76c-6dc2ee0c6802",
   "metadata": {},
   "outputs": [],
   "source": [
    "# Ensure both train and test sets have the same one-hot encoding\n",
    "X_test_encoded = pd.get_dummies(X_test)\n",
    "\n",
    "# Align columns of X_test with X_train\n",
    "X_test_encoded = X_test_encoded.reindex(columns=X_train.columns, fill_value=0)\n",
    "\n",
    "# Now make predictions on the test data\n",
    "Log_pred = Log_reg.predict(X_test_encoded)\n"
   ]
  },
  {
   "cell_type": "code",
   "execution_count": 92,
   "id": "f8611d8f-59e6-4dcc-b62f-0f0ecc0f1cb1",
   "metadata": {},
   "outputs": [
    {
     "name": "stdout",
     "output_type": "stream",
     "text": [
      "\n",
      "Accuracy of the Logistic Regression model on test data: 0.9940476190476191\n"
     ]
    }
   ],
   "source": [
    "# Step 8: Evaluate the model\n",
    "lor_accuracy = accuracy_score(y_test, Log_pred)\n",
    "print(\"\\nAccuracy of the Logistic Regression model on test data:\", lor_accuracy)\n"
   ]
  },
  {
   "cell_type": "code",
   "execution_count": 94,
   "id": "2c785923-b9cf-4b40-8169-0a08a1d4f205",
   "metadata": {},
   "outputs": [
    {
     "name": "stdout",
     "output_type": "stream",
     "text": [
      "Cross-validated score (mean of 20-fold CV): 0.998\n"
     ]
    }
   ],
   "source": [
    "# Step 9: Perform cross-validation to validate model performance\n",
    "logreg = LogisticRegression(max_iter=1500)\n",
    "scores_Log = cross_val_score(logreg, X_train, y_train, cv=20)\n",
    "print(\"Cross-validated score (mean of 20-fold CV):\", scores_Log.mean())\n"
   ]
  },
  {
   "cell_type": "code",
   "execution_count": 95,
   "id": "da84161d-91a3-480f-94df-512b9107d5c5",
   "metadata": {},
   "outputs": [],
   "source": [
    "# Step 10: Take input for prediction\n",
    "Age = 50\n",
    "Gender = 1\n",
    "AirPollution = 3\n",
    "Alcoholuse = 1\n",
    "DustAllergy = 2\n",
    "OccuPationalHazards = 3\n",
    "GeneticRisk = 2\n",
    "chronicLungDisease = 1\n",
    "BalancedDiet = 2\n",
    "Obesity = 3\n",
    "Smoking = 3\n",
    "PassiveSmoker = 2\n",
    "ChestPain = 3\n",
    "CoughingofBlood = 2\n",
    "Fatigue = 1\n",
    "WeightLoss = 2\n",
    "ShortnessofBreath = 2\n",
    "Wheezing = 2\n",
    "SwallowingDifficulty = 3\n",
    "ClubbingofFingerNails = 1\n",
    "FrequentCold = 2\n",
    "DryCough = 3\n",
    "Snoring = 3\n"
   ]
  },
  {
   "cell_type": "code",
   "execution_count": 96,
   "id": "f69a026d-3363-43b4-896c-f217af495bc7",
   "metadata": {},
   "outputs": [],
   "source": [
    "# Step 11: Prepare the input data for prediction\n",
    "data_input = {\n",
    "    'Age': Age, 'Gender': Gender, 'AirPollution': AirPollution, 'Alcoholuse': Alcoholuse,\n",
    "    'DustAllergy': DustAllergy, 'OccuPationalHazards': OccuPationalHazards, 'GeneticRisk': GeneticRisk,\n",
    "    'chronicLungDisease': chronicLungDisease, 'BalancedDiet': BalancedDiet, 'Obesity': Obesity,\n",
    "    'Smoking': Smoking, 'PassiveSmoker': PassiveSmoker, 'ChestPain': ChestPain, 'CoughingofBlood': CoughingofBlood,\n",
    "    'Fatigue': Fatigue, 'WeightLoss': WeightLoss, 'ShortnessofBreath': ShortnessofBreath, 'Wheezing': Wheezing,\n",
    "    'SwallowingDifficulty': SwallowingDifficulty, 'ClubbingofFingerNails': ClubbingofFingerNails,\n",
    "    'FrequentCold': FrequentCold, 'DryCough': DryCough, 'Snoring': Snoring\n",
    "}"
   ]
  },
  {
   "cell_type": "code",
   "execution_count": 97,
   "id": "8f2c70f7-5a69-41be-94a9-01e04dc940a9",
   "metadata": {},
   "outputs": [
    {
     "name": "stdout",
     "output_type": "stream",
     "text": [
      "\n",
      "Input data for prediction:\n",
      "    Age  Gender  AirPollution  Alcoholuse  DustAllergy  OccuPationalHazards  \\\n",
      "0   50       1             3           1            2                    3   \n",
      "\n",
      "   GeneticRisk  chronicLungDisease  BalancedDiet  Obesity  ...  \\\n",
      "0            2                   1             2        3  ...   \n",
      "\n",
      "   CoughingofBlood  Fatigue  WeightLoss  ShortnessofBreath  Wheezing  \\\n",
      "0                2        1           2                  2         2   \n",
      "\n",
      "   SwallowingDifficulty  ClubbingofFingerNails  FrequentCold  DryCough  \\\n",
      "0                     3                      1             2         3   \n",
      "\n",
      "   Snoring  \n",
      "0        3  \n",
      "\n",
      "[1 rows x 23 columns]\n"
     ]
    }
   ],
   "source": [
    "# Step 12: Convert input to a DataFrame for prediction\n",
    "cust_df = pd.DataFrame(data_input, index=[0])\n",
    "print(\"\\nInput data for prediction:\\n\", cust_df)\n"
   ]
  },
  {
   "cell_type": "code",
   "execution_count": 98,
   "id": "66f3798e-26af-41a0-a1cc-0b1ff29f202d",
   "metadata": {},
   "outputs": [],
   "source": [
    "# Step 13: Make the prediction\n",
    "cust_df_encoded = pd.get_dummies(cust_df)\n",
    "\n",
    "# Align cust_df columns with X_train columns\n",
    "cust_df_encoded = cust_df_encoded.reindex(columns=X_train.columns, fill_value=0)\n",
    "\n",
    "# Now make predictions using the trained model\n",
    "costpredLog = Log_reg.predict(cust_df_encoded)"
   ]
  },
  {
   "cell_type": "code",
   "execution_count": 104,
   "id": "596c64ad-0d30-4089-8786-e6b519ab5564",
   "metadata": {},
   "outputs": [
    {
     "name": "stdout",
     "output_type": "stream",
     "text": [
      "\n",
      "Prediction: There is less chance for the patient to catch cancer.\n"
     ]
    }
   ],
   "source": [
    "# Step 14: Generate the final output\n",
    "if costpredLog == 0:\n",
    "    print(\"\\nPrediction: There is less chance for the patient to catch cancer.\")\n",
    "else:\n",
    "    print(\"\\nPrediction: There is more chance for the patient to catch cancer.\")"
   ]
  },
  {
   "cell_type": "code",
   "execution_count": null,
   "id": "bfd58e63-1a62-4d0e-b3c4-1cf7d29783e5",
   "metadata": {},
   "outputs": [],
   "source": []
  },
  {
   "cell_type": "code",
   "execution_count": null,
   "id": "b1c09e5d-effa-4489-9182-27109e63d2f4",
   "metadata": {},
   "outputs": [],
   "source": []
  }
 ],
 "metadata": {
  "kernelspec": {
   "display_name": "Python 3 (ipykernel)",
   "language": "python",
   "name": "python3"
  },
  "language_info": {
   "codemirror_mode": {
    "name": "ipython",
    "version": 3
   },
   "file_extension": ".py",
   "mimetype": "text/x-python",
   "name": "python",
   "nbconvert_exporter": "python",
   "pygments_lexer": "ipython3",
   "version": "3.11.7"
  }
 },
 "nbformat": 4,
 "nbformat_minor": 5
}
